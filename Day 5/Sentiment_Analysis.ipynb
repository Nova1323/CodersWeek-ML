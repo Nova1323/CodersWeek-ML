{
  "nbformat": 4,
  "nbformat_minor": 0,
  "metadata": {
    "colab": {
      "name": "Sentiment_Analysis",
      "provenance": []
    },
    "kernelspec": {
      "name": "python3",
      "display_name": "Python 3"
    }
  },
  "cells": [
    {
      "cell_type": "markdown",
      "metadata": {
        "id": "UW2AmzvGJbq4",
        "colab_type": "text"
      },
      "source": [
        "#Installing and Importing Libraries"
      ]
    },
    {
      "cell_type": "code",
      "metadata": {
        "id": "YRRLMG2nAdBj",
        "colab_type": "code",
        "colab": {
          "base_uri": "https://localhost:8080/",
          "height": 170
        },
        "outputId": "ee3bf327-5176-4c18-bec9-893b4fdd4dc1"
      },
      "source": [
        "!pip install GetOldTweets3"
      ],
      "execution_count": 21,
      "outputs": [
        {
          "output_type": "stream",
          "text": [
            "Collecting GetOldTweets3\n",
            "  Downloading https://files.pythonhosted.org/packages/ed/f4/a00c2a7c90801abc875325bb5416ce9090ac86d06a00cc887131bd73ba45/GetOldTweets3-0.0.11-py3-none-any.whl\n",
            "Requirement already satisfied: lxml>=3.5.0 in /usr/local/lib/python3.6/dist-packages (from GetOldTweets3) (4.2.6)\n",
            "Collecting pyquery>=1.2.10\n",
            "  Downloading https://files.pythonhosted.org/packages/78/43/95d42e386c61cb639d1a0b94f0c0b9f0b7d6b981ad3c043a836c8b5bc68b/pyquery-1.4.1-py2.py3-none-any.whl\n",
            "Collecting cssselect>0.7.9\n",
            "  Downloading https://files.pythonhosted.org/packages/3b/d4/3b5c17f00cce85b9a1e6f91096e1cc8e8ede2e1be8e96b87ce1ed09e92c5/cssselect-1.1.0-py2.py3-none-any.whl\n",
            "Installing collected packages: cssselect, pyquery, GetOldTweets3\n",
            "Successfully installed GetOldTweets3-0.0.11 cssselect-1.1.0 pyquery-1.4.1\n"
          ],
          "name": "stdout"
        }
      ]
    },
    {
      "cell_type": "code",
      "metadata": {
        "id": "JQ9vozoDAP1a",
        "colab_type": "code",
        "colab": {}
      },
      "source": [
        "import GetOldTweets3 as got\n",
        "import pandas as pd\n",
        "import numpy as np\n",
        "import tweepy\n",
        "import matplotlib.pyplot as plt\n",
        "from textblob import TextBlob"
      ],
      "execution_count": 0,
      "outputs": []
    },
    {
      "cell_type": "markdown",
      "metadata": {
        "id": "-qHslCFYJhXS",
        "colab_type": "text"
      },
      "source": [
        "#Function to get Tweets"
      ]
    },
    {
      "cell_type": "code",
      "metadata": {
        "id": "kPiXlV8rArJ1",
        "colab_type": "code",
        "colab": {}
      },
      "source": [
        "def username_tweets_to_csv(username, count):\n",
        "  tweetCriteria = got.manager.TweetCriteria().setUsername(username).setMaxTweets(count)\n",
        "  tweets = got.manager.TweetManager.getTweets(tweetCriteria)\n",
        "  user_tweets = [[tweet.date, tweet.text] for tweet in tweets]\n",
        "  tweets_df = pd.DataFrame(user_tweets, columns = ['Datetime', 'Text'])\n",
        "  tweets_df.to_csv('{}-tweets.csv'.format(username), sep=',')"
      ],
      "execution_count": 0,
      "outputs": []
    },
    {
      "cell_type": "markdown",
      "metadata": {
        "id": "nrjnZW3-Jmg6",
        "colab_type": "text"
      },
      "source": [
        "#Importing Data from Twitter Handle for analysis"
      ]
    },
    {
      "cell_type": "markdown",
      "metadata": {
        "id": "ks3ahLsIJ_LI",
        "colab_type": "text"
      },
      "source": [
        "#Analysis on @irso"
      ]
    },
    {
      "cell_type": "code",
      "metadata": {
        "id": "jbt-BWTZBDwU",
        "colab_type": "code",
        "colab": {}
      },
      "source": [
        "username = 'isro'\n",
        "count = 1000\n",
        "username_tweets_to_csv(username, count)"
      ],
      "execution_count": 0,
      "outputs": []
    },
    {
      "cell_type": "code",
      "metadata": {
        "id": "lJ5fTJXOBI0u",
        "colab_type": "code",
        "colab": {
          "base_uri": "https://localhost:8080/",
          "height": 34
        },
        "outputId": "e953999d-912f-40b9-df95-49d7456bf24c"
      },
      "source": [
        "!ls /content/*.csv"
      ],
      "execution_count": 84,
      "outputs": [
        {
          "output_type": "stream",
          "text": [
            "/content/BBCWorld-tweets.csv  /content/cnn-tweets.csv  /content/isro-tweets.csv\n"
          ],
          "name": "stdout"
        }
      ]
    },
    {
      "cell_type": "code",
      "metadata": {
        "id": "y4Gz-8s1BZ5M",
        "colab_type": "code",
        "colab": {}
      },
      "source": [
        "df = pd.read_csv('/content/isro-tweets.csv')"
      ],
      "execution_count": 0,
      "outputs": []
    },
    {
      "cell_type": "code",
      "metadata": {
        "id": "E284le31Beik",
        "colab_type": "code",
        "colab": {
          "base_uri": "https://localhost:8080/",
          "height": 204
        },
        "outputId": "4a540f19-7cb6-490b-c860-58f8766ba0dc"
      },
      "source": [
        "df.head()"
      ],
      "execution_count": 86,
      "outputs": [
        {
          "output_type": "execute_result",
          "data": {
            "text/html": [
              "<div>\n",
              "<style scoped>\n",
              "    .dataframe tbody tr th:only-of-type {\n",
              "        vertical-align: middle;\n",
              "    }\n",
              "\n",
              "    .dataframe tbody tr th {\n",
              "        vertical-align: top;\n",
              "    }\n",
              "\n",
              "    .dataframe thead th {\n",
              "        text-align: right;\n",
              "    }\n",
              "</style>\n",
              "<table border=\"1\" class=\"dataframe\">\n",
              "  <thead>\n",
              "    <tr style=\"text-align: right;\">\n",
              "      <th></th>\n",
              "      <th>Unnamed: 0</th>\n",
              "      <th>Datetime</th>\n",
              "      <th>Text</th>\n",
              "    </tr>\n",
              "  </thead>\n",
              "  <tbody>\n",
              "    <tr>\n",
              "      <th>0</th>\n",
              "      <td>0</td>\n",
              "      <td>2020-06-01 05:40:33+00:00</td>\n",
              "      <td>Congratulations to #NASA and #SpaceX for histo...</td>\n",
              "    </tr>\n",
              "    <tr>\n",
              "      <th>1</th>\n",
              "      <td>1</td>\n",
              "      <td>2020-05-16 13:10:32+00:00</td>\n",
              "      <td>Department of Space will follow Government gui...</td>\n",
              "    </tr>\n",
              "    <tr>\n",
              "      <th>2</th>\n",
              "      <td>2</td>\n",
              "      <td>2020-04-02 14:35:52+00:00</td>\n",
              "      <td>With the voluntary contribution from employees...</td>\n",
              "    </tr>\n",
              "    <tr>\n",
              "      <th>3</th>\n",
              "      <td>3</td>\n",
              "      <td>2020-03-04 09:50:33+00:00</td>\n",
              "      <td>The launch of GISAT-1 onboard GSLV-F10, planne...</td>\n",
              "    </tr>\n",
              "    <tr>\n",
              "      <th>4</th>\n",
              "      <td>4</td>\n",
              "      <td>2020-03-04 07:12:49+00:00</td>\n",
              "      <td>Watch this video https://youtu.be/KnNiSexRWhY ...</td>\n",
              "    </tr>\n",
              "  </tbody>\n",
              "</table>\n",
              "</div>"
            ],
            "text/plain": [
              "   Unnamed: 0  ...                                               Text\n",
              "0           0  ...  Congratulations to #NASA and #SpaceX for histo...\n",
              "1           1  ...  Department of Space will follow Government gui...\n",
              "2           2  ...  With the voluntary contribution from employees...\n",
              "3           3  ...  The launch of GISAT-1 onboard GSLV-F10, planne...\n",
              "4           4  ...  Watch this video https://youtu.be/KnNiSexRWhY ...\n",
              "\n",
              "[5 rows x 3 columns]"
            ]
          },
          "metadata": {
            "tags": []
          },
          "execution_count": 86
        }
      ]
    },
    {
      "cell_type": "code",
      "metadata": {
        "id": "8-FYQY-UBmfF",
        "colab_type": "code",
        "colab": {}
      },
      "source": [
        "df=df.drop(['Unnamed: 0','Datetime'], 1)"
      ],
      "execution_count": 0,
      "outputs": []
    },
    {
      "cell_type": "markdown",
      "metadata": {
        "id": "8NvHUBgjD6Sr",
        "colab_type": "text"
      },
      "source": [
        "# Data contains NaN type hence choosing new user"
      ]
    },
    {
      "cell_type": "markdown",
      "metadata": {
        "id": "wvjuDHs3J5lD",
        "colab_type": "text"
      },
      "source": [
        "#Analysis on @BBCWorld"
      ]
    },
    {
      "cell_type": "code",
      "metadata": {
        "id": "KuUXvnZwEGKh",
        "colab_type": "code",
        "colab": {}
      },
      "source": [
        "username = 'BBCWorld'\n",
        "count = 1000\n",
        "username_tweets_to_csv(username, count)"
      ],
      "execution_count": 0,
      "outputs": []
    },
    {
      "cell_type": "code",
      "metadata": {
        "id": "B4WibF3YESoL",
        "colab_type": "code",
        "colab": {}
      },
      "source": [
        "df = pd.read_csv('/content/BBCWorld-tweets.csv')"
      ],
      "execution_count": 0,
      "outputs": []
    },
    {
      "cell_type": "code",
      "metadata": {
        "id": "qQc_c5EoEXVI",
        "colab_type": "code",
        "colab": {}
      },
      "source": [
        "df=df.drop(['Unnamed: 0','Datetime'], 1)"
      ],
      "execution_count": 0,
      "outputs": []
    },
    {
      "cell_type": "markdown",
      "metadata": {
        "id": "Sb2BqTPsKD8j",
        "colab_type": "text"
      },
      "source": [
        "#Sentiment Analysis"
      ]
    },
    {
      "cell_type": "code",
      "metadata": {
        "id": "2ZEzVImWBsM1",
        "colab_type": "code",
        "colab": {
          "base_uri": "https://localhost:8080/",
          "height": 34
        },
        "outputId": "88d948a0-fbeb-4889-b4c9-5f59cfed4b35"
      },
      "source": [
        "Sentiment = []\n",
        "Score = []\n",
        "i = 0\n",
        "\n",
        "while (i < len(df['Text'])):\n",
        "  sample = df['Text'][i]\n",
        "  analysis = TextBlob(sample)\n",
        "\n",
        "  if (analysis.sentiment.polarity >= 0.5):\n",
        "    data1 = \"Positive\"\n",
        "  elif (analysis.sentiment.polarity <= -0.5):\n",
        "    data1 = \"Negative\"\n",
        "  else:\n",
        "    data1 = \"Neutral\"\n",
        "  \n",
        "  Sentiment.append(data1)\n",
        "  Score.append(analysis.sentiment.polarity)\n",
        "  i += 1\n",
        "else :\n",
        "  print(\"Done!\")\n"
      ],
      "execution_count": 92,
      "outputs": [
        {
          "output_type": "stream",
          "text": [
            "Done!\n"
          ],
          "name": "stdout"
        }
      ]
    },
    {
      "cell_type": "markdown",
      "metadata": {
        "id": "zjiVKwJNKHWI",
        "colab_type": "text"
      },
      "source": [
        "#Adding Sentiment and Scores to Data Frame"
      ]
    },
    {
      "cell_type": "code",
      "metadata": {
        "id": "1G0olRqrC3To",
        "colab_type": "code",
        "colab": {}
      },
      "source": [
        "df['Sentiment'] = Sentiment\n",
        "df['Score'] = Score"
      ],
      "execution_count": 0,
      "outputs": []
    },
    {
      "cell_type": "code",
      "metadata": {
        "id": "guAUxgD1Eb_C",
        "colab_type": "code",
        "colab": {
          "base_uri": "https://localhost:8080/",
          "height": 204
        },
        "outputId": "68c9d6a0-82c8-4f85-f125-9babf9ac068b"
      },
      "source": [
        "df.head()"
      ],
      "execution_count": 94,
      "outputs": [
        {
          "output_type": "execute_result",
          "data": {
            "text/html": [
              "<div>\n",
              "<style scoped>\n",
              "    .dataframe tbody tr th:only-of-type {\n",
              "        vertical-align: middle;\n",
              "    }\n",
              "\n",
              "    .dataframe tbody tr th {\n",
              "        vertical-align: top;\n",
              "    }\n",
              "\n",
              "    .dataframe thead th {\n",
              "        text-align: right;\n",
              "    }\n",
              "</style>\n",
              "<table border=\"1\" class=\"dataframe\">\n",
              "  <thead>\n",
              "    <tr style=\"text-align: right;\">\n",
              "      <th></th>\n",
              "      <th>Text</th>\n",
              "      <th>Sentiment</th>\n",
              "      <th>Score</th>\n",
              "    </tr>\n",
              "  </thead>\n",
              "  <tbody>\n",
              "    <tr>\n",
              "      <th>0</th>\n",
              "      <td>\"Something's different now... enough people ar...</td>\n",
              "      <td>Neutral</td>\n",
              "      <td>0.1000</td>\n",
              "    </tr>\n",
              "    <tr>\n",
              "      <th>1</th>\n",
              "      <td>Afghans condemn Iran police after refugees die...</td>\n",
              "      <td>Neutral</td>\n",
              "      <td>0.0000</td>\n",
              "    </tr>\n",
              "    <tr>\n",
              "      <th>2</th>\n",
              "      <td>Novak Djokovic: US Open coronavirus protocols ...</td>\n",
              "      <td>Neutral</td>\n",
              "      <td>-0.0625</td>\n",
              "    </tr>\n",
              "    <tr>\n",
              "      <th>3</th>\n",
              "      <td>Washington DC braces for biggest demonstration...</td>\n",
              "      <td>Neutral</td>\n",
              "      <td>0.0000</td>\n",
              "    </tr>\n",
              "    <tr>\n",
              "      <th>4</th>\n",
              "      <td>What’s the advice on face masks at mass gather...</td>\n",
              "      <td>Neutral</td>\n",
              "      <td>0.0000</td>\n",
              "    </tr>\n",
              "  </tbody>\n",
              "</table>\n",
              "</div>"
            ],
            "text/plain": [
              "                                                Text Sentiment   Score\n",
              "0  \"Something's different now... enough people ar...   Neutral  0.1000\n",
              "1  Afghans condemn Iran police after refugees die...   Neutral  0.0000\n",
              "2  Novak Djokovic: US Open coronavirus protocols ...   Neutral -0.0625\n",
              "3  Washington DC braces for biggest demonstration...   Neutral  0.0000\n",
              "4  What’s the advice on face masks at mass gather...   Neutral  0.0000"
            ]
          },
          "metadata": {
            "tags": []
          },
          "execution_count": 94
        }
      ]
    },
    {
      "cell_type": "markdown",
      "metadata": {
        "id": "Qc07IfusKM_x",
        "colab_type": "text"
      },
      "source": [
        "#Visualising Analysis Score"
      ]
    },
    {
      "cell_type": "code",
      "metadata": {
        "id": "zFIJV39jHTaO",
        "colab_type": "code",
        "colab": {
          "base_uri": "https://localhost:8080/",
          "height": 282
        },
        "outputId": "603bcf3e-b214-4c91-b0fd-f6fab22c6d0b"
      },
      "source": [
        "color = np.where(df[\"Sentiment\"]== \"Positive\",'g', np.where(df[\"Sentiment\"]== \"Negative\",'r','b'))\n",
        "plt.scatter(df['Score'].index, df['Score'], c=color)"
      ],
      "execution_count": 95,
      "outputs": [
        {
          "output_type": "execute_result",
          "data": {
            "text/plain": [
              "<matplotlib.collections.PathCollection at 0x7f4ff4b0bba8>"
            ]
          },
          "metadata": {
            "tags": []
          },
          "execution_count": 95
        },
        {
          "output_type": "display_data",
          "data": {
            "image/png": "[encoded data removed]",
            "text/plain": [
              "<Figure size 432x288 with 1 Axes>"
            ]
          },
          "metadata": {
            "tags": [],
            "needs_background": "light"
          }
        }
      ]
    },
    {
      "cell_type": "code",
      "metadata": {
        "id": "UdLpGIeAHnJa",
        "colab_type": "code",
        "colab": {
          "base_uri": "https://localhost:8080/",
          "height": 68
        },
        "outputId": "56f5b870-4d7e-4905-ca79-41dc33f9807b"
      },
      "source": [
        "poscount = df[(df['Sentiment'] == \"Positive\")][\"Sentiment\"].count()\n",
        "negcount = df[(df['Sentiment'] == \"Negative\")][\"Sentiment\"].count()\n",
        "neucount = df[(df['Sentiment'] == \"Neutral\")][\"Sentiment\"].count()\n",
        "print('Positive Sentiment = ',(poscount/1000)*100,'%')\n",
        "print('Neutral Sentiment = ',(neucount/1000)*100,'%')\n",
        "print('Negative Sentiment = ',(negcount/1000)*100,'%')"
      ],
      "execution_count": 96,
      "outputs": [
        {
          "output_type": "stream",
          "text": [
            "Positive Sentiment =  4.9 %\n",
            "Neutral Sentiment =  93.4 %\n",
            "Negative Sentiment =  1.7000000000000002 %\n"
          ],
          "name": "stdout"
        }
      ]
    },
    {
      "cell_type": "markdown",
      "metadata": {
        "id": "nPd94mz4KR0J",
        "colab_type": "text"
      },
      "source": [
        "#Analysis of @elonmusk"
      ]
    },
    {
      "cell_type": "code",
      "metadata": {
        "id": "5MooC_JVIghB",
        "colab_type": "code",
        "colab": {}
      },
      "source": [
        "username = 'elonmusk'\n",
        "count = 1000\n",
        "username_tweets_to_csv(username, count)"
      ],
      "execution_count": 0,
      "outputs": []
    },
    {
      "cell_type": "code",
      "metadata": {
        "id": "TFBaR9sfKXpj",
        "colab_type": "code",
        "colab": {}
      },
      "source": [
        "df = pd.read_csv('/content/elonmusk-tweets.csv')"
      ],
      "execution_count": 0,
      "outputs": []
    },
    {
      "cell_type": "code",
      "metadata": {
        "id": "ZMoNVNFgKaQ3",
        "colab_type": "code",
        "colab": {}
      },
      "source": [
        "df=df.drop(['Unnamed: 0','Datetime'], 1)"
      ],
      "execution_count": 0,
      "outputs": []
    },
    {
      "cell_type": "code",
      "metadata": {
        "id": "akQeNbMpOz1N",
        "colab_type": "code",
        "colab": {
          "base_uri": "https://localhost:8080/",
          "height": 214
        },
        "outputId": "33547055-b01d-4c60-d56b-344cc3ad3190"
      },
      "source": [
        "df['Text'] = str([cell.encode('utf-8') for cell in df['Text']])"
      ],
      "execution_count": 128,
      "outputs": [
        {
          "output_type": "error",
          "ename": "AttributeError",
          "evalue": "ignored",
          "traceback": [
            "\u001b[0;31m---------------------------------------------------------------------------\u001b[0m",
            "\u001b[0;31mAttributeError\u001b[0m                            Traceback (most recent call last)",
            "\u001b[0;32m<ipython-input-128-eea3215875fe>\u001b[0m in \u001b[0;36m<module>\u001b[0;34m()\u001b[0m\n\u001b[0;32m----> 1\u001b[0;31m \u001b[0mdf\u001b[0m\u001b[0;34m[\u001b[0m\u001b[0;34m'Text'\u001b[0m\u001b[0;34m]\u001b[0m \u001b[0;34m=\u001b[0m \u001b[0mstr\u001b[0m\u001b[0;34m(\u001b[0m\u001b[0;34m[\u001b[0m\u001b[0mcell\u001b[0m\u001b[0;34m.\u001b[0m\u001b[0mencode\u001b[0m\u001b[0;34m(\u001b[0m\u001b[0;34m'utf-8'\u001b[0m\u001b[0;34m)\u001b[0m \u001b[0;32mfor\u001b[0m \u001b[0mcell\u001b[0m \u001b[0;32min\u001b[0m \u001b[0mdf\u001b[0m\u001b[0;34m[\u001b[0m\u001b[0;34m'Text'\u001b[0m\u001b[0;34m]\u001b[0m\u001b[0;34m]\u001b[0m\u001b[0;34m)\u001b[0m\u001b[0;34m\u001b[0m\u001b[0;34m\u001b[0m\u001b[0m\n\u001b[0m",
            "\u001b[0;32m<ipython-input-128-eea3215875fe>\u001b[0m in \u001b[0;36m<listcomp>\u001b[0;34m(.0)\u001b[0m\n\u001b[0;32m----> 1\u001b[0;31m \u001b[0mdf\u001b[0m\u001b[0;34m[\u001b[0m\u001b[0;34m'Text'\u001b[0m\u001b[0;34m]\u001b[0m \u001b[0;34m=\u001b[0m \u001b[0mstr\u001b[0m\u001b[0;34m(\u001b[0m\u001b[0;34m[\u001b[0m\u001b[0mcell\u001b[0m\u001b[0;34m.\u001b[0m\u001b[0mencode\u001b[0m\u001b[0;34m(\u001b[0m\u001b[0;34m'utf-8'\u001b[0m\u001b[0;34m)\u001b[0m \u001b[0;32mfor\u001b[0m \u001b[0mcell\u001b[0m \u001b[0;32min\u001b[0m \u001b[0mdf\u001b[0m\u001b[0;34m[\u001b[0m\u001b[0;34m'Text'\u001b[0m\u001b[0;34m]\u001b[0m\u001b[0;34m]\u001b[0m\u001b[0;34m)\u001b[0m\u001b[0;34m\u001b[0m\u001b[0;34m\u001b[0m\u001b[0m\n\u001b[0m",
            "\u001b[0;31mAttributeError\u001b[0m: 'float' object has no attribute 'encode'"
          ]
        }
      ]
    },
    {
      "cell_type": "markdown",
      "metadata": {
        "id": "VqJdoVxNLBrk",
        "colab_type": "text"
      },
      "source": [
        "#Sentiment Analysis"
      ]
    },
    {
      "cell_type": "code",
      "metadata": {
        "id": "mzobPAS1KdyC",
        "colab_type": "code",
        "colab": {
          "base_uri": "https://localhost:8080/",
          "height": 231
        },
        "outputId": "a2e8c8ca-f4e7-4da8-9948-bc24307ca07d"
      },
      "source": [
        "Sentiment = []\n",
        "Score = []\n",
        "i = 0\n",
        "\n",
        "while (i < len(df['Text'])):\n",
        "  sample = df['Text'][i]\n",
        "  analysis = TextBlob(sample)\n",
        "\n",
        "  if (analysis.sentiment.polarity >= 0.5):\n",
        "    data1 = \"Positive\"\n",
        "  elif (analysis.sentiment.polarity <= -0.5):\n",
        "    data1 = \"Negative\"\n",
        "  else:\n",
        "    data1 = \"Neutral\"\n",
        "  \n",
        "  Sentiment.append(data1)\n",
        "  Score.append(analysis.sentiment.polarity)\n",
        "  i += 1\n",
        "else :\n",
        "  print(\"Done!\")"
      ],
      "execution_count": 131,
      "outputs": [
        {
          "output_type": "error",
          "ename": "TypeError",
          "evalue": "ignored",
          "traceback": [
            "\u001b[0;31m---------------------------------------------------------------------------\u001b[0m",
            "\u001b[0;31mTypeError\u001b[0m                                 Traceback (most recent call last)",
            "\u001b[0;32m<ipython-input-131-90292f23fa33>\u001b[0m in \u001b[0;36m<module>\u001b[0;34m()\u001b[0m\n\u001b[1;32m      4\u001b[0m \u001b[0;34m\u001b[0m\u001b[0m\n\u001b[1;32m      5\u001b[0m \u001b[0;32mwhile\u001b[0m \u001b[0;34m(\u001b[0m\u001b[0mi\u001b[0m \u001b[0;34m<\u001b[0m \u001b[0mlen\u001b[0m\u001b[0;34m(\u001b[0m\u001b[0mdf\u001b[0m\u001b[0;34m[\u001b[0m\u001b[0;34m'Text'\u001b[0m\u001b[0;34m]\u001b[0m\u001b[0;34m)\u001b[0m\u001b[0;34m)\u001b[0m\u001b[0;34m:\u001b[0m\u001b[0;34m\u001b[0m\u001b[0;34m\u001b[0m\u001b[0m\n\u001b[0;32m----> 6\u001b[0;31m   \u001b[0;32mwith\u001b[0m \u001b[0mopen\u001b[0m\u001b[0;34m(\u001b[0m\u001b[0mdf\u001b[0m\u001b[0;34m[\u001b[0m\u001b[0;34m'Text'\u001b[0m\u001b[0;34m]\u001b[0m\u001b[0;34m,\u001b[0m\u001b[0;34m'r'\u001b[0m\u001b[0;34m)\u001b[0m \u001b[0;32mas\u001b[0m \u001b[0mfp\u001b[0m\u001b[0;34m:\u001b[0m\u001b[0;34m\u001b[0m\u001b[0;34m\u001b[0m\u001b[0m\n\u001b[0m\u001b[1;32m      7\u001b[0m      \u001b[0msample\u001b[0m \u001b[0;34m=\u001b[0m \u001b[0mfp\u001b[0m\u001b[0;34m.\u001b[0m\u001b[0mread\u001b[0m\u001b[0;34m(\u001b[0m\u001b[0;34m)\u001b[0m\u001b[0;34m\u001b[0m\u001b[0;34m\u001b[0m\u001b[0m\n\u001b[1;32m      8\u001b[0m   \u001b[0manalysis\u001b[0m \u001b[0;34m=\u001b[0m \u001b[0mTextBlob\u001b[0m\u001b[0;34m(\u001b[0m\u001b[0msample\u001b[0m\u001b[0;34m)\u001b[0m\u001b[0;34m\u001b[0m\u001b[0;34m\u001b[0m\u001b[0m\n",
            "\u001b[0;31mTypeError\u001b[0m: expected str, bytes or os.PathLike object, not Series"
          ]
        }
      ]
    },
    {
      "cell_type": "markdown",
      "metadata": {
        "id": "QoL1aU3wLDBi",
        "colab_type": "text"
      },
      "source": [
        "#Adding Sentiment and Scores to Data Frame"
      ]
    },
    {
      "cell_type": "code",
      "metadata": {
        "id": "1g7rgD_FKlrO",
        "colab_type": "code",
        "colab": {}
      },
      "source": [
        "df['Sentiment'] = Sentiment\n",
        "df['Score'] = Score"
      ],
      "execution_count": 0,
      "outputs": []
    },
    {
      "cell_type": "code",
      "metadata": {
        "id": "KDU93cyZKr7T",
        "colab_type": "code",
        "colab": {}
      },
      "source": [
        "df.head()"
      ],
      "execution_count": 0,
      "outputs": []
    },
    {
      "cell_type": "markdown",
      "metadata": {
        "id": "TO7juwLHLLwV",
        "colab_type": "text"
      },
      "source": [
        "#Visualising Analysis Score"
      ]
    },
    {
      "cell_type": "code",
      "metadata": {
        "id": "5TDjaS5PKsSi",
        "colab_type": "code",
        "colab": {}
      },
      "source": [
        "color = np.where(df[\"Sentiment\"]== \"Positive\",'g', np.where(df[\"Sentiment\"]== \"Negative\",'r','b'))\n",
        "plt.scatter(df['Score'].index, df['Score'], c=color)"
      ],
      "execution_count": 0,
      "outputs": []
    },
    {
      "cell_type": "code",
      "metadata": {
        "id": "_SFqQkibKvkz",
        "colab_type": "code",
        "colab": {}
      },
      "source": [
        "poscount = df[(df['Sentiment'] == \"Positive\")][\"Sentiment\"].count()\n",
        "negcount = df[(df['Sentiment'] == \"Negative\")][\"Sentiment\"].count()\n",
        "neucount = df[(df['Sentiment'] == \"Neutral\")][\"Sentiment\"].count()\n",
        "print('Positive Sentiment = ',(poscount/1000)*100,'%')\n",
        "print('Neutral Sentiment = ',(neucount/1000)*100,'%')\n",
        "print('Negative Sentiment = ',(negcount/1000)*100,'%')"
      ],
      "execution_count": 0,
      "outputs": []
    },
    {
      "cell_type": "code",
      "metadata": {
        "id": "V0-w-FEcKxur",
        "colab_type": "code",
        "colab": {}
      },
      "source": [
        ""
      ],
      "execution_count": 0,
      "outputs": []
    }
  ]
}